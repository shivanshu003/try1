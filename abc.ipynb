{
 "cells": [
  {
   "cell_type": "code",
   "execution_count": 10,
   "metadata": {},
   "outputs": [
    {
     "data": {
      "text/plain": [
       "{'pn1': {'pn1', 'pn2', 'pn3', 'pn4'},\n",
       " 'pn2': {'pn1', 'pn2', 'pn3', 'pn4'},\n",
       " 'pn3': {'pn1', 'pn2', 'pn3', 'pn4'},\n",
       " 'pn4': {'pn1', 'pn2', 'pn3', 'pn4'},\n",
       " 'pn5': {'pn5', 'pn6', 'pn7'},\n",
       " 'pn6': {'pn5', 'pn6', 'pn7'},\n",
       " 'pn7': {'pn5', 'pn6', 'pn7'}}"
      ]
     },
     "execution_count": 10,
     "metadata": {},
     "output_type": "execute_result"
    }
   ],
   "source": [
    "import pandas as pd\n",
    "d= {'rpn': ['pn1', 'pn2', 'pn3', 'pn1', 'pn4', 'pn5', 'pn6', 'pn5'],\n",
    "'ipn': ['pn2', 'pn3', 'pn1', 'pn4', 'pn2', 'pn6', 'pn5', 'pn7']}\n",
    "l = {}\n",
    "def for_loop(ll):\n",
    "    for i in ll:\n",
    "        l[i] = ll\n",
    "def mapped(x):\n",
    "    if x[0] in l.keys():\n",
    "        ll = l[x[0]]\n",
    "        ll.add(x[1])\n",
    "        l[x[0]] = ll\n",
    "        for_loop(ll)\n",
    "    else:\n",
    "        ll = {(x[0])}\n",
    "        ll.add(x[1])\n",
    "        l[x[0]] = ll\n",
    "        for_loop(ll)\n",
    "    if x[1] in l.keys():\n",
    "        ll = l[x[1]]\n",
    "        ll.add(x[0])\n",
    "        l[x[1]] = ll\n",
    "        for_loop(ll)\n",
    "    else:\n",
    "        ll = {(x[1])}\n",
    "        ll.add(x[0])\n",
    "        l[x[1]] = ll\n",
    "        for_loop(ll)\n",
    "    return 1\n",
    "df = pd.DataFrame(data=d, columns=['rpn', 'ipn'])\n",
    "df['mapped'] = df.apply(mapped, axis=1)\n",
    "l"
   ]
  },
  {
   "cell_type": "code",
   "execution_count": null,
   "metadata": {},
   "outputs": [],
   "source": []
  },
  {
   "cell_type": "code",
   "execution_count": null,
   "metadata": {},
   "outputs": [],
   "source": []
  }
 ],
 "metadata": {
  "kernelspec": {
   "display_name": "Python 3",
   "language": "python",
   "name": "python3"
  },
  "language_info": {
   "codemirror_mode": {
    "name": "ipython",
    "version": 3
   },
   "file_extension": ".py",
   "mimetype": "text/x-python",
   "name": "python",
   "nbconvert_exporter": "python",
   "pygments_lexer": "ipython3",
   "version": "3.6.8"
  }
 },
 "nbformat": 4,
 "nbformat_minor": 2
}
